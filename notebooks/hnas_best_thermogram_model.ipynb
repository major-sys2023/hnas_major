{
 "cells": [
  {
   "cell_type": "code",
   "execution_count": 1,
   "id": "ae87dd9b-8ebe-4798-9f8b-939cbcb0ac3d",
   "metadata": {
    "execution": {
     "iopub.execute_input": "2023-04-01T18:02:52.244407Z",
     "iopub.status.busy": "2023-04-01T18:02:52.243552Z",
     "iopub.status.idle": "2023-04-01T18:02:55.670981Z",
     "shell.execute_reply": "2023-04-01T18:02:55.669908Z",
     "shell.execute_reply.started": "2023-04-01T18:02:52.244378Z"
    }
   },
   "outputs": [],
   "source": [
    "import os\n",
    "import keras\n",
    "from tensorflow.keras.preprocessing import image_dataset_from_directory\n",
    "from keras.models import load_model\n",
    "from keras.preprocessing.image import ImageDataGenerator\n",
    "from keras.callbacks import EarlyStopping"
   ]
  },
  {
   "cell_type": "code",
   "execution_count": null,
   "id": "f4d75781-25f6-4a39-ab60-48c1985d6e5f",
   "metadata": {
    "execution": {
     "iopub.execute_input": "2023-04-01T18:02:55.673569Z",
     "iopub.status.busy": "2023-04-01T18:02:55.672873Z"
    }
   },
   "outputs": [],
   "source": [
    "image_shape=(227,227)\n",
    "train_dir='/notebooks/bigtherm/main'\n",
    "validation_dir=train_dir\n",
    "test_dir=\"/notebooks/bigtherm/test\"\n",
    "batch_size=64\n",
    "test_train_split=0.3\n",
    "\n",
    "train_data = image_dataset_from_directory(\\\n",
    "      train_dir,color_mode=\"grayscale\",image_size=image_shape ,\\\n",
    "      subset='training',seed=5, validation_split=test_train_split,\\\n",
    "      batch_size=batch_size)\n",
    "validation_data = image_dataset_from_directory(validation_dir,\n",
    "      color_mode=\"grayscale\",image_size=image_shape, subset='validation',seed=5,\\\n",
    "      validation_split=test_train_split,batch_size=batch_size)\n",
    "test_data = image_dataset_from_directory(test_dir,\n",
    "      color_mode=\"grayscale\",image_size=image_shape, batch_size=batch_size)\n"
   ]
  },
  {
   "cell_type": "code",
   "execution_count": null,
   "id": "9da8979c-4858-4bc1-a048-faf6e1e478ee",
   "metadata": {},
   "outputs": [],
   "source": [
    "model=load_model('/notebooks/hnas_major/models/hnas_thermogram_fcn_0')"
   ]
  },
  {
   "cell_type": "code",
   "execution_count": null,
   "id": "5a773f11-b208-4cef-9acc-4a8b396f5036",
   "metadata": {},
   "outputs": [],
   "source": [
    "model.summary()"
   ]
  },
  {
   "cell_type": "code",
   "execution_count": null,
   "id": "37233e4f-0f96-436a-9fc9-62e79bdd992b",
   "metadata": {},
   "outputs": [],
   "source": [
    "callback = EarlyStopping(monitor='val_loss', patience=3)"
   ]
  },
  {
   "cell_type": "code",
   "execution_count": null,
   "id": "5891b76f-7471-4190-8854-a6d7e0a705fb",
   "metadata": {},
   "outputs": [],
   "source": [
    "model.fit(train_data,\n",
    "            epochs=100,\n",
    "            validation_data=validation_data,callbacks=[callback])"
   ]
  },
  {
   "cell_type": "code",
   "execution_count": null,
   "id": "54c3e837-7e79-48bb-b4cf-886089b6f377",
   "metadata": {},
   "outputs": [],
   "source": [
    "image_shape=(227,227)\n",
    "train_dir='/notebooks/thermograms/Desenvolvimento da Metodologia'\n",
    "validation_dir=train_dir\n",
    "# test_dir=\"/notebooks/bigtherm/test\"\n",
    "batch_size=64\n",
    "test_train_split=0.3\n",
    "\n",
    "train_data = image_dataset_from_directory(\\\n",
    "      train_dir,color_mode=\"grayscale\",image_size=image_shape ,\\\n",
    "      subset='training',seed=5, validation_split=test_train_split,\\\n",
    "      batch_size=batch_size)\n",
    "validation_data = image_dataset_from_directory(validation_dir,\n",
    "      color_mode=\"grayscale\",image_size=image_shape, subset='validation',seed=5,\\\n",
    "      validation_split=test_train_split,batch_size=batch_size)\n",
    "# test_data = image_dataset_from_directory(test_dir,\n",
    "#       color_mode=\"grayscale\",image_size=image_shape, batch_size=batch_size)"
   ]
  },
  {
   "cell_type": "code",
   "execution_count": null,
   "id": "cbba334d-49bf-49a3-b6d3-e74586f4db25",
   "metadata": {},
   "outputs": [],
   "source": [
    "model=load_model('/notebooks/hnas_major/models/hnas_thermogram_fcn_0')"
   ]
  },
  {
   "cell_type": "code",
   "execution_count": null,
   "id": "ef3b2d40-7c73-41e1-a169-3fd665733fc5",
   "metadata": {},
   "outputs": [],
   "source": [
    "results = model.evaluate(validation_data)\n",
    "print(\"test loss, test acc:\", results)"
   ]
  },
  {
   "cell_type": "code",
   "execution_count": null,
   "id": "11fbddec-83d8-4a3f-9e04-8c93df87b326",
   "metadata": {},
   "outputs": [],
   "source": [
    "results = model.evaluate(train_data)\n",
    "print(\"test loss, test acc:\", results)"
   ]
  }
 ],
 "metadata": {
  "kernelspec": {
   "display_name": "Python 3 (ipykernel)",
   "language": "python",
   "name": "python3"
  },
  "language_info": {
   "codemirror_mode": {
    "name": "ipython",
    "version": 3
   },
   "file_extension": ".py",
   "mimetype": "text/x-python",
   "name": "python",
   "nbconvert_exporter": "python",
   "pygments_lexer": "ipython3",
   "version": "3.9.16"
  }
 },
 "nbformat": 4,
 "nbformat_minor": 5
}
