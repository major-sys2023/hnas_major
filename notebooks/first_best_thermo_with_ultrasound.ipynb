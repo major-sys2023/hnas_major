{
 "cells": [
  {
   "cell_type": "code",
   "execution_count": 1,
   "id": "bb507e77-6e0f-4a16-9e4f-c33391bce0a0",
   "metadata": {
    "execution": {
     "iopub.status.idle": "2023-03-29T18:45:18.288453Z",
     "shell.execute_reply": "2023-03-29T18:45:18.287672Z",
     "shell.execute_reply.started": "2023-03-29T18:45:16.197943Z"
    }
   },
   "outputs": [],
   "source": [
    "import keras\n",
    "from tensorflow.keras.preprocessing import image_dataset_from_directory\n",
    "from keras.models import load_model\n"
   ]
  },
  {
   "cell_type": "code",
   "execution_count": 3,
   "id": "50fa0d58-401b-49b4-bd18-1d2b07994c25",
   "metadata": {
    "execution": {
     "iopub.execute_input": "2023-03-29T18:45:21.507633Z",
     "iopub.status.busy": "2023-03-29T18:45:21.507442Z",
     "iopub.status.idle": "2023-03-29T18:45:22.088884Z",
     "shell.execute_reply": "2023-03-29T18:45:22.088079Z",
     "shell.execute_reply.started": "2023-03-29T18:45:21.507615Z"
    }
   },
   "outputs": [],
   "source": [
    "model=load_model('/notebooks/hnas_major/models/hnas_thermogram_fcn_0')"
   ]
  },
  {
   "cell_type": "code",
   "execution_count": 4,
   "id": "86f42d18-e999-4f8f-a3d9-2ef3b50dbb58",
   "metadata": {
    "execution": {
     "iopub.execute_input": "2023-03-29T18:45:22.091536Z",
     "iopub.status.busy": "2023-03-29T18:45:22.091309Z",
     "iopub.status.idle": "2023-03-29T18:45:22.630692Z",
     "shell.execute_reply": "2023-03-29T18:45:22.630094Z",
     "shell.execute_reply.started": "2023-03-29T18:45:22.091516Z"
    }
   },
   "outputs": [
    {
     "name": "stdout",
     "output_type": "stream",
     "text": [
      "Found 8116 files belonging to 2 classes.\n",
      "Using 5682 files for training.\n",
      "Found 8116 files belonging to 2 classes.\n",
      "Using 2434 files for validation.\n",
      "Found 900 files belonging to 2 classes.\n"
     ]
    }
   ],
   "source": [
    "image_shape=(227,227)\n",
    "train_dir=\"/notebooks/ultrasound/train\"\n",
    "validation_dir=train_dir\n",
    "test_dir=\"/notebooks/ultrasound/val\"\n",
    "batch_size=32\n",
    "test_train_split=0.3\n",
    "\n",
    "train_data = image_dataset_from_directory(\\\n",
    "      train_dir,color_mode=\"grayscale\",image_size=image_shape ,\\\n",
    "      subset='training',seed=5, validation_split=test_train_split,\\\n",
    "      batch_size=batch_size)\n",
    "validation_data = image_dataset_from_directory(validation_dir,\n",
    "      color_mode=\"grayscale\",image_size=image_shape, subset='validation',seed=5,\\\n",
    "      validation_split=test_train_split,batch_size=batch_size)\n",
    "test_data = image_dataset_from_directory(test_dir,\n",
    "      color_mode=\"grayscale\",image_size=image_shape, batch_size=batch_size)\n"
   ]
  },
  {
   "cell_type": "code",
   "execution_count": 5,
   "id": "f0508fdf-3fb0-4470-9d5f-1b305c1880e5",
   "metadata": {
    "execution": {
     "iopub.execute_input": "2023-03-29T18:45:25.149226Z",
     "iopub.status.busy": "2023-03-29T18:45:25.148658Z",
     "iopub.status.idle": "2023-03-29T18:45:25.155957Z",
     "shell.execute_reply": "2023-03-29T18:45:25.155225Z",
     "shell.execute_reply.started": "2023-03-29T18:45:25.149201Z"
    }
   },
   "outputs": [],
   "source": [
    "callback = keras.callbacks.EarlyStopping(monitor='val_loss', patience=3)\n"
   ]
  },
  {
   "cell_type": "code",
   "execution_count": 6,
   "id": "1f1eecd5-b5c9-4dbb-b384-894d6e3b2482",
   "metadata": {
    "execution": {
     "iopub.execute_input": "2023-03-29T18:45:27.147849Z",
     "iopub.status.busy": "2023-03-29T18:45:27.147182Z",
     "iopub.status.idle": "2023-03-29T18:52:39.391904Z",
     "shell.execute_reply": "2023-03-29T18:52:39.391271Z",
     "shell.execute_reply.started": "2023-03-29T18:45:27.147821Z"
    }
   },
   "outputs": [
    {
     "name": "stdout",
     "output_type": "stream",
     "text": [
      "Epoch 1/100\n",
      "178/178 [==============================] - 64s 325ms/step - loss: 0.4680 - binary_accuracy: 0.7728 - val_loss: 0.2878 - val_binary_accuracy: 0.8784\n",
      "Epoch 2/100\n",
      "178/178 [==============================] - 60s 337ms/step - loss: 0.2141 - binary_accuracy: 0.9083 - val_loss: 0.2710 - val_binary_accuracy: 0.8833\n",
      "Epoch 3/100\n",
      "178/178 [==============================] - 57s 319ms/step - loss: 0.1465 - binary_accuracy: 0.9417 - val_loss: 0.1239 - val_binary_accuracy: 0.9540\n",
      "Epoch 4/100\n",
      "178/178 [==============================] - 57s 319ms/step - loss: 0.1175 - binary_accuracy: 0.9527 - val_loss: 0.1074 - val_binary_accuracy: 0.9597\n",
      "Epoch 5/100\n",
      "178/178 [==============================] - 57s 319ms/step - loss: 0.0919 - binary_accuracy: 0.9597 - val_loss: 0.1119 - val_binary_accuracy: 0.9606\n",
      "Epoch 6/100\n",
      "178/178 [==============================] - 57s 319ms/step - loss: 0.0816 - binary_accuracy: 0.9629 - val_loss: 0.1104 - val_binary_accuracy: 0.9704\n",
      "Epoch 7/100\n",
      "178/178 [==============================] - 56s 313ms/step - loss: 0.0732 - binary_accuracy: 0.9666 - val_loss: 0.2081 - val_binary_accuracy: 0.9355\n"
     ]
    }
   ],
   "source": [
    "history = model.fit(train_data,\n",
    "            epochs=100,\n",
    "            validation_data=validation_data,callbacks=[callback])\n"
   ]
  },
  {
   "cell_type": "code",
   "execution_count": null,
   "id": "6ecde0e3-c650-48be-b3e7-737a8f159348",
   "metadata": {},
   "outputs": [],
   "source": []
  }
 ],
 "metadata": {
  "kernelspec": {
   "display_name": "Python 3 (ipykernel)",
   "language": "python",
   "name": "python3"
  },
  "language_info": {
   "codemirror_mode": {
    "name": "ipython",
    "version": 3
   },
   "file_extension": ".py",
   "mimetype": "text/x-python",
   "name": "python",
   "nbconvert_exporter": "python",
   "pygments_lexer": "ipython3",
   "version": "3.9.16"
  }
 },
 "nbformat": 4,
 "nbformat_minor": 5
}
