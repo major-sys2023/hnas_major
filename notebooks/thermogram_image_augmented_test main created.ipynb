{
 "cells": [
  {
   "cell_type": "code",
   "execution_count": 9,
   "id": "884cfbff-df13-4635-aad0-75113b26812b",
   "metadata": {
    "execution": {
     "iopub.execute_input": "2023-03-31T18:20:39.724771Z",
     "iopub.status.busy": "2023-03-31T18:20:39.723918Z",
     "iopub.status.idle": "2023-03-31T18:20:39.729097Z",
     "shell.execute_reply": "2023-03-31T18:20:39.728310Z",
     "shell.execute_reply.started": "2023-03-31T18:20:39.724743Z"
    }
   },
   "outputs": [],
   "source": [
    "import os\n",
    "import keras\n",
    "from tensorflow.keras.preprocessing import image_dataset_from_directory\n",
    "from keras.models import load_model\n",
    "from keras.preprocessing.image import ImageDataGenerator"
   ]
  },
  {
   "cell_type": "code",
   "execution_count": 16,
   "id": "02bc8328-553f-480d-a8d8-98fcb486b09e",
   "metadata": {
    "execution": {
     "iopub.execute_input": "2023-03-31T18:30:40.324169Z",
     "iopub.status.busy": "2023-03-31T18:30:40.323632Z",
     "iopub.status.idle": "2023-03-31T18:30:40.726492Z",
     "shell.execute_reply": "2023-03-31T18:30:40.725493Z",
     "shell.execute_reply.started": "2023-03-31T18:30:40.324144Z"
    }
   },
   "outputs": [
    {
     "name": "stdout",
     "output_type": "stream",
     "text": [
      "Found 4228 files belonging to 2 classes.\n",
      "Using 2960 files for training.\n",
      "Found 4228 files belonging to 2 classes.\n",
      "Using 1268 files for validation.\n"
     ]
    }
   ],
   "source": [
    "image_shape=(227,227)\n",
    "train_dir=output_data_path\n",
    "validation_dir=train_dir\n",
    "# test_dir=\"/notebooks/ultrasound/val\"\n",
    "batch_size=64\n",
    "test_train_split=0.3\n",
    "\n",
    "train_data = image_dataset_from_directory(\\\n",
    "      train_dir,color_mode=\"grayscale\",image_size=image_shape ,\\\n",
    "      subset='training',seed=5, validation_split=test_train_split,\\\n",
    "      batch_size=batch_size)\n",
    "validation_data = image_dataset_from_directory(validation_dir,\n",
    "      color_mode=\"grayscale\",image_size=image_shape, subset='validation',seed=5,\\\n",
    "      validation_split=test_train_split,batch_size=batch_size)\n",
    "# test_data = image_dataset_from_directory(test_dir,\n",
    "#       color_mode=\"grayscale\",image_size=image_shape, batch_size=batch_size)\n"
   ]
  },
  {
   "cell_type": "code",
   "execution_count": 7,
   "id": "136a480e-063f-4695-894f-e2060d1c6c5d",
   "metadata": {
    "execution": {
     "iopub.execute_input": "2023-03-31T18:20:16.934555Z",
     "iopub.status.busy": "2023-03-31T18:20:16.934170Z",
     "iopub.status.idle": "2023-03-31T18:20:16.942617Z",
     "shell.execute_reply": "2023-03-31T18:20:16.941645Z",
     "shell.execute_reply.started": "2023-03-31T18:20:16.934530Z"
    }
   },
   "outputs": [],
   "source": [
    "def data_auggment(input_data_path, output_data_path, factor_=0.5, image_shape=(227,227),batch_size=64,\\\n",
    "                  class_mode='binary', save_prefix='aug_', save_format='png',rescale=1./255,\\\n",
    "                  rotation_range=30, width_shift_range=0.2, height_shift_range=0.2,\\\n",
    "                  shear_range=0.2, zoom_range=0.2, horizontal_flip=True, fill_mode='nearest'):\n",
    "    if input_data_path[-1]!='/':\n",
    "        input_data_path+='/'\n",
    "    if output_data_path!='/':\n",
    "        output_data_path+='/'\n",
    "    \n",
    "    num_classes=os.listdir(input_data_path)\n",
    "    datagen = ImageDataGenerator(rescale=rescale, rotation_range=rotation_range,\\\n",
    "                                 width_shift_range=width_shift_range, height_shift_range=height_shift_range, \\\n",
    "                                 shear_range=shear_range, zoom_range=zoom_range, horizontal_flip=horizontal_flip,\\\n",
    "                                 fill_mode=fill_mode)\n",
    "    for i in num_classes:\n",
    "        print(input_data_path+i)\n",
    "        print(output_data_path+i)\n",
    "        \n",
    "        train_generator = datagen.flow_from_directory(\n",
    "            input_data_path+i, target_size=image_shape, batch_size=batch_size,\n",
    "            class_mode='input')\n",
    "        \n",
    "        augmented_generator = datagen.flow_from_directory(\n",
    "            input_data_path+i, target_size=image_shape, batch_size=batch_size,\\\n",
    "            class_mode='input', save_to_dir=output_data_path+i, save_prefix=save_prefix,\\\n",
    "            save_format=save_format)\n",
    "        for i in range(len(train_generator)):\n",
    "            batch = train_generator.next()\n",
    "            augmented_generator.next()\n",
    "            \n",
    "            if i >= len(train_generator) * factor_:\n",
    "                break"
   ]
  },
  {
   "cell_type": "code",
   "execution_count": 4,
   "id": "c852985f-850a-4716-b070-91e0cbfad794",
   "metadata": {
    "execution": {
     "iopub.execute_input": "2023-03-31T18:18:57.160279Z",
     "iopub.status.busy": "2023-03-31T18:18:57.158983Z",
     "iopub.status.idle": "2023-03-31T18:18:57.163952Z",
     "shell.execute_reply": "2023-03-31T18:18:57.163169Z",
     "shell.execute_reply.started": "2023-03-31T18:18:57.160237Z"
    }
   },
   "outputs": [],
   "source": [
    "input_data_path='/notebooks/thermograms/Desenvolvimento da Metodologia'"
   ]
  },
  {
   "cell_type": "code",
   "execution_count": 5,
   "id": "fca14403-f435-46e4-a2b7-586e46bd92d5",
   "metadata": {
    "execution": {
     "iopub.execute_input": "2023-03-31T18:18:58.785588Z",
     "iopub.status.busy": "2023-03-31T18:18:58.784764Z",
     "iopub.status.idle": "2023-03-31T18:18:58.789298Z",
     "shell.execute_reply": "2023-03-31T18:18:58.788273Z",
     "shell.execute_reply.started": "2023-03-31T18:18:58.785556Z"
    }
   },
   "outputs": [],
   "source": [
    "output_data_path='/notebooks/bigtherm'"
   ]
  },
  {
   "cell_type": "code",
   "execution_count": 15,
   "id": "98a83ddb-0a49-4c64-90c6-5bafd99facd1",
   "metadata": {
    "execution": {
     "iopub.execute_input": "2023-03-31T18:29:57.399255Z",
     "iopub.status.busy": "2023-03-31T18:29:57.398928Z",
     "iopub.status.idle": "2023-03-31T18:30:40.321990Z",
     "shell.execute_reply": "2023-03-31T18:30:40.321059Z",
     "shell.execute_reply.started": "2023-03-31T18:29:57.399231Z"
    }
   },
   "outputs": [
    {
     "name": "stdout",
     "output_type": "stream",
     "text": [
      "/notebooks/thermograms/Desenvolvimento da Metodologia/SAUDÁVEIS\n",
      "/notebooks/bigtherm/SAUDÁVEIS\n",
      "Found 642 images belonging to 16 classes.\n",
      "Found 642 images belonging to 16 classes.\n",
      "/notebooks/thermograms/Desenvolvimento da Metodologia/DOENTES\n",
      "/notebooks/bigtherm/DOENTES\n",
      "Found 640 images belonging to 31 classes.\n",
      "Found 640 images belonging to 31 classes.\n"
     ]
    }
   ],
   "source": [
    "data_auggment(input_data_path,output_data_path, save_prefix='aug4_',factor_=1)"
   ]
  },
  {
   "cell_type": "code",
   "execution_count": null,
   "id": "0b81b851-104e-49d5-957a-1d3fc3715eb1",
   "metadata": {},
   "outputs": [],
   "source": [
    "data_auggment(input_data_path,output_data_path)"
   ]
  },
  {
   "cell_type": "code",
   "execution_count": 8,
   "id": "d0e7fd72-07c5-45f9-9d44-a4c76b486959",
   "metadata": {
    "execution": {
     "iopub.execute_input": "2023-03-29T13:38:06.678205Z",
     "iopub.status.busy": "2023-03-29T13:38:06.677882Z",
     "iopub.status.idle": "2023-03-29T13:38:06.959787Z",
     "shell.execute_reply": "2023-03-29T13:38:06.958568Z",
     "shell.execute_reply.started": "2023-03-29T13:38:06.678180Z"
    }
   },
   "outputs": [
    {
     "name": "stdout",
     "output_type": "stream",
     "text": [
      "Found 1282 files belonging to 2 classes.\n",
      "Using 898 files for training.\n",
      "Found 1282 files belonging to 2 classes.\n",
      "Using 384 files for validation.\n"
     ]
    }
   ],
   "source": [
    "image_shape=(227,227)\n",
    "train_dir=\"/notebooks/thermograms/Desenvolvimento da Metodologia\"\n",
    "validation_dir=train_dir\n",
    "# test_dir=\"/notebooks/ultrasound/val\"\n",
    "batch_size=64\n",
    "test_train_split=0.3\n",
    "\n",
    "train_data = image_dataset_from_directory(\\\n",
    "      train_dir,color_mode=\"grayscale\",image_size=image_shape ,\\\n",
    "      subset='training',seed=5, validation_split=test_train_split,\\\n",
    "      batch_size=batch_size)\n",
    "validation_data = image_dataset_from_directory(validation_dir,\n",
    "      color_mode=\"grayscale\",image_size=image_shape, subset='validation',seed=5,\\\n",
    "      validation_split=test_train_split,batch_size=batch_size)\n",
    "# test_data = image_dataset_from_directory(test_dir,\n",
    "#       color_mode=\"grayscale\",image_size=image_shape, batch_size=batch_size)\n"
   ]
  },
  {
   "cell_type": "code",
   "execution_count": 1,
   "id": "898e2c58-120a-4ed3-a357-4290772a0269",
   "metadata": {
    "execution": {
     "iopub.execute_input": "2023-04-01T17:23:23.038029Z",
     "iopub.status.busy": "2023-04-01T17:23:23.037208Z",
     "iopub.status.idle": "2023-04-01T17:23:23.049077Z",
     "shell.execute_reply": "2023-04-01T17:23:23.047961Z",
     "shell.execute_reply.started": "2023-04-01T17:23:23.037972Z"
    }
   },
   "outputs": [],
   "source": [
    "import os\n",
    "import shutil\n",
    "import random\n"
   ]
  },
  {
   "cell_type": "code",
   "execution_count": 2,
   "id": "f84beddd-ed20-47f0-a2a4-4a7704db1d1d",
   "metadata": {
    "execution": {
     "iopub.execute_input": "2023-04-01T17:26:08.963740Z",
     "iopub.status.busy": "2023-04-01T17:26:08.963406Z",
     "iopub.status.idle": "2023-04-01T17:26:09.128552Z",
     "shell.execute_reply": "2023-04-01T17:26:09.127383Z",
     "shell.execute_reply.started": "2023-04-01T17:26:08.963714Z"
    }
   },
   "outputs": [],
   "source": [
    "source_dir = \"/notebooks/bigtherm/main/DOENTES\" # replace with the path to your source directory\n",
    "dest_dir = \"/notebooks/bigtherm/test/DOENTES\" # replace with the path to your destination directory\n",
    "num_files = 100 # replace with the number of files you want to randomly select\n",
    "\n",
    "# Get a list of all files in the source directory\n",
    "files = os.listdir(source_dir)\n",
    "\n",
    "# Randomly select num_files from the list of files\n",
    "random_files = random.sample(files, num_files)\n",
    "\n",
    "# Move the randomly selected files to the destination directory\n",
    "for file in random_files:\n",
    "    src_file = os.path.join(source_dir, file)\n",
    "    dst_file = os.path.join(dest_dir, file)\n",
    "    shutil.move(src_file, dst_file)\n"
   ]
  },
  {
   "cell_type": "code",
   "execution_count": 3,
   "id": "cafc1ba8-0e18-451f-b618-04006416d6e6",
   "metadata": {
    "execution": {
     "iopub.execute_input": "2023-04-01T17:26:12.031149Z",
     "iopub.status.busy": "2023-04-01T17:26:12.030083Z",
     "iopub.status.idle": "2023-04-01T17:26:12.166503Z",
     "shell.execute_reply": "2023-04-01T17:26:12.165365Z",
     "shell.execute_reply.started": "2023-04-01T17:26:12.031119Z"
    }
   },
   "outputs": [],
   "source": [
    "source_dir = \"/notebooks/bigtherm/main/SAUDÁVEIS\" # replace with the path to your source directory\n",
    "dest_dir = \"/notebooks/bigtherm/test/SAUDÁVEIS\" # replace with the path to your destination directory\n",
    "num_files = 100 # replace with the number of files you want to randomly select\n",
    "\n",
    "# Get a list of all files in the source directory\n",
    "files = os.listdir(source_dir)\n",
    "\n",
    "# Randomly select num_files from the list of files\n",
    "random_files = random.sample(files, num_files)\n",
    "\n",
    "# Move the randomly selected files to the destination directory\n",
    "for file in random_files:\n",
    "    src_file = os.path.join(source_dir, file)\n",
    "    dst_file = os.path.join(dest_dir, file)\n",
    "    shutil.move(src_file, dst_file)"
   ]
  }
 ],
 "metadata": {
  "kernelspec": {
   "display_name": "Python 3 (ipykernel)",
   "language": "python",
   "name": "python3"
  },
  "language_info": {
   "codemirror_mode": {
    "name": "ipython",
    "version": 3
   },
   "file_extension": ".py",
   "mimetype": "text/x-python",
   "name": "python",
   "nbconvert_exporter": "python",
   "pygments_lexer": "ipython3",
   "version": "3.9.16"
  }
 },
 "nbformat": 4,
 "nbformat_minor": 5
}
