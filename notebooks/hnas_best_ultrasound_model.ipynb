{
 "cells": [
  {
   "cell_type": "code",
   "execution_count": 1,
   "id": "ae87dd9b-8ebe-4798-9f8b-939cbcb0ac3d",
   "metadata": {
    "execution": {
     "iopub.execute_input": "2023-04-08T19:47:36.499829Z",
     "iopub.status.busy": "2023-04-08T19:47:36.499364Z",
     "iopub.status.idle": "2023-04-08T19:47:38.627208Z",
     "shell.execute_reply": "2023-04-08T19:47:38.626447Z",
     "shell.execute_reply.started": "2023-04-08T19:47:36.499800Z"
    }
   },
   "outputs": [],
   "source": [
    "import os\n",
    "import keras\n",
    "from tensorflow.keras.preprocessing import image_dataset_from_directory\n",
    "from keras.models import load_model\n",
    "from keras.preprocessing.image import ImageDataGenerator\n",
    "from keras.callbacks import EarlyStopping"
   ]
  },
  {
   "cell_type": "code",
   "execution_count": 2,
   "id": "f4d75781-25f6-4a39-ab60-48c1985d6e5f",
   "metadata": {
    "execution": {
     "iopub.execute_input": "2023-04-08T19:47:38.631787Z",
     "iopub.status.busy": "2023-04-08T19:47:38.630975Z",
     "iopub.status.idle": "2023-04-08T19:47:40.289201Z",
     "shell.execute_reply": "2023-04-08T19:47:40.288267Z",
     "shell.execute_reply.started": "2023-04-08T19:47:38.631759Z"
    }
   },
   "outputs": [
    {
     "name": "stdout",
     "output_type": "stream",
     "text": [
      "Found 8116 files belonging to 2 classes.\n",
      "Using 5682 files for training.\n",
      "Found 8116 files belonging to 2 classes.\n",
      "Using 2434 files for validation.\n",
      "Found 900 files belonging to 2 classes.\n"
     ]
    }
   ],
   "source": [
    "image_shape=(227,227)\n",
    "train_dir='/notebooks/ultrasound/train'\n",
    "validation_dir=train_dir\n",
    "test_dir=\"/notebooks/ultrasound/val\"\n",
    "batch_size=64\n",
    "test_train_split=0.3\n",
    "\n",
    "train_data = image_dataset_from_directory(\\\n",
    "      train_dir,color_mode=\"grayscale\",image_size=image_shape ,\\\n",
    "      subset='training',seed=5, validation_split=test_train_split,\\\n",
    "      batch_size=batch_size)\n",
    "validation_data = image_dataset_from_directory(validation_dir,\n",
    "      color_mode=\"grayscale\",image_size=image_shape, subset='validation',seed=5,\\\n",
    "      validation_split=test_train_split,batch_size=batch_size)\n",
    "test_data = image_dataset_from_directory(test_dir,\n",
    "      color_mode=\"grayscale\",image_size=image_shape, batch_size=batch_size)\n"
   ]
  },
  {
   "cell_type": "code",
   "execution_count": 3,
   "id": "9da8979c-4858-4bc1-a048-faf6e1e478ee",
   "metadata": {
    "execution": {
     "iopub.execute_input": "2023-04-08T19:47:40.290744Z",
     "iopub.status.busy": "2023-04-08T19:47:40.290206Z",
     "iopub.status.idle": "2023-04-08T19:47:40.901007Z",
     "shell.execute_reply": "2023-04-08T19:47:40.900264Z",
     "shell.execute_reply.started": "2023-04-08T19:47:40.290720Z"
    }
   },
   "outputs": [],
   "source": [
    "model=load_model('/notebooks/hnas_major/models/hnas_ultrasound_fcn_0')"
   ]
  },
  {
   "cell_type": "code",
   "execution_count": 4,
   "id": "5a773f11-b208-4cef-9acc-4a8b396f5036",
   "metadata": {
    "execution": {
     "iopub.execute_input": "2023-04-08T19:47:40.903871Z",
     "iopub.status.busy": "2023-04-08T19:47:40.903599Z",
     "iopub.status.idle": "2023-04-08T19:47:40.934859Z",
     "shell.execute_reply": "2023-04-08T19:47:40.933980Z",
     "shell.execute_reply.started": "2023-04-08T19:47:40.903842Z"
    }
   },
   "outputs": [
    {
     "name": "stdout",
     "output_type": "stream",
     "text": [
      "Model: \"sequential_30\"\n",
      "_________________________________________________________________\n",
      " Layer (type)                Output Shape              Param #   \n",
      "=================================================================\n",
      " batch_normalization_60 (Bat  (None, 227, 227, 1)      4         \n",
      " chNormalization)                                                \n",
      "                                                                 \n",
      " conv2d_146 (Conv2D)         (None, 224, 224, 256)     4352      \n",
      "                                                                 \n",
      " max_pooling2d_76 (MaxPoolin  (None, 112, 112, 256)    0         \n",
      " g2D)                                                            \n",
      "                                                                 \n",
      " conv2d_147 (Conv2D)         (None, 108, 108, 119)     761719    \n",
      "                                                                 \n",
      " max_pooling2d_77 (MaxPoolin  (None, 54, 54, 119)      0         \n",
      " g2D)                                                            \n",
      "                                                                 \n",
      " conv2d_148 (Conv2D)         (None, 52, 52, 340)       364480    \n",
      "                                                                 \n",
      " conv2d_149 (Conv2D)         (None, 49, 49, 356)       1936996   \n",
      "                                                                 \n",
      " max_pooling2d_78 (MaxPoolin  (None, 24, 24, 356)      0         \n",
      " g2D)                                                            \n",
      "                                                                 \n",
      " conv2d_150 (Conv2D)         (None, 21, 21, 110)       626670    \n",
      "                                                                 \n",
      " conv2d_151 (Conv2D)         (None, 17, 17, 129)       354879    \n",
      "                                                                 \n",
      " max_pooling2d_79 (MaxPoolin  (None, 8, 8, 129)        0         \n",
      " g2D)                                                            \n",
      "                                                                 \n",
      " conv2d_152 (Conv2D)         (None, 4, 4, 369)         1190394   \n",
      "                                                                 \n",
      " dropout_60 (Dropout)        (None, 4, 4, 369)         0         \n",
      "                                                                 \n",
      " conv2d_153 (Conv2D)         (None, 4, 4, 1)           370       \n",
      "                                                                 \n",
      " dropout_61 (Dropout)        (None, 4, 4, 1)           0         \n",
      "                                                                 \n",
      " batch_normalization_61 (Bat  (None, 4, 4, 1)          4         \n",
      " chNormalization)                                                \n",
      "                                                                 \n",
      " global_max_pooling2d_30 (Gl  (None, 1)                0         \n",
      " obalMaxPooling2D)                                               \n",
      "                                                                 \n",
      " activation_30 (Activation)  (None, 1)                 0         \n",
      "                                                                 \n",
      "=================================================================\n",
      "Total params: 5,239,868\n",
      "Trainable params: 5,239,864\n",
      "Non-trainable params: 4\n",
      "_________________________________________________________________\n"
     ]
    }
   ],
   "source": [
    "model.summary()"
   ]
  },
  {
   "cell_type": "code",
   "execution_count": 5,
   "id": "a055d183-74b7-47fa-a250-d134bd09f774",
   "metadata": {
    "execution": {
     "iopub.execute_input": "2023-04-08T19:47:40.938699Z",
     "iopub.status.busy": "2023-04-08T19:47:40.938417Z",
     "iopub.status.idle": "2023-04-08T19:47:52.965647Z",
     "shell.execute_reply": "2023-04-08T19:47:52.965058Z",
     "shell.execute_reply.started": "2023-04-08T19:47:40.938668Z"
    }
   },
   "outputs": [
    {
     "name": "stdout",
     "output_type": "stream",
     "text": [
      "39/39 [==============================] - 12s 116ms/step - loss: 0.0300 - binary_accuracy: 0.9947\n",
      "validation loss, validation acc: [0.030003823339939117, 0.9946590065956116]\n"
     ]
    }
   ],
   "source": [
    "results = model.evaluate(validation_data)\n",
    "print(\"validation loss, validation acc:\", results)"
   ]
  },
  {
   "cell_type": "code",
   "execution_count": 6,
   "id": "de323b47-a674-4010-a930-ef4fda19e116",
   "metadata": {
    "execution": {
     "iopub.execute_input": "2023-04-08T19:47:52.966793Z",
     "iopub.status.busy": "2023-04-08T19:47:52.966538Z",
     "iopub.status.idle": "2023-04-08T19:47:55.081446Z",
     "shell.execute_reply": "2023-04-08T19:47:55.080844Z",
     "shell.execute_reply.started": "2023-04-08T19:47:52.966766Z"
    }
   },
   "outputs": [
    {
     "name": "stdout",
     "output_type": "stream",
     "text": [
      "15/15 [==============================] - 2s 132ms/step - loss: 0.2776 - binary_accuracy: 0.9222\n",
      "test loss, test acc: [0.2776472568511963, 0.9222221970558167]\n"
     ]
    }
   ],
   "source": [
    "results = model.evaluate(test_data)\n",
    "print(\"test loss, test acc:\", results)"
   ]
  }
 ],
 "metadata": {
  "kernelspec": {
   "display_name": "Python 3 (ipykernel)",
   "language": "python",
   "name": "python3"
  },
  "language_info": {
   "codemirror_mode": {
    "name": "ipython",
    "version": 3
   },
   "file_extension": ".py",
   "mimetype": "text/x-python",
   "name": "python",
   "nbconvert_exporter": "python",
   "pygments_lexer": "ipython3",
   "version": "3.9.16"
  }
 },
 "nbformat": 4,
 "nbformat_minor": 5
}
