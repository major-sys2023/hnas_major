{
 "cells": [
  {
   "cell_type": "code",
   "execution_count": 16,
   "id": "a3993c94-be5b-4a00-b615-e422ccfd1f6f",
   "metadata": {
    "id": "a3993c94-be5b-4a00-b615-e422ccfd1f6f"
   },
   "outputs": [],
   "source": [
    "from keras.layers import Dense, Activation, Conv2D\n",
    "from keras.layers import MaxPooling2D, Dropout, Flatten,GlobalMaxPooling2D\n",
    "from keras.models import Sequential\n",
    "import random\n",
    "import pandas as pd\n",
    "from PIL import Image\n",
    "import matplotlib.pyplot as plt\n",
    "from keras.layers import BatchNormalization\n",
    "# from keras.layers import Conv2D, MaxPooling2D, ZeroPadding2D, GlobalAveragePooling2D\n",
    "# from keras.layers import LeakyReLU \n",
    "from keras.preprocessing.image import ImageDataGenerator"
   ]
  },
  {
   "cell_type": "code",
   "execution_count": 17,
   "id": "ec87db1e-6713-4640-8ca0-ee379ccc2d21",
   "metadata": {
    "id": "ec87db1e-6713-4640-8ca0-ee379ccc2d21"
   },
   "outputs": [],
   "source": [
    "def build_model(layer_dims, input_shape=(224,224,3,),len_classes=2, dropout_rate=0.2,activation='relu'):\n",
    "    print(1)\n",
    "    \"\"\"Function to build a model with specified layer dimensions and activation function.\"\"\"\n",
    "    model = Sequential()\n",
    "    for i, dim in enumerate(layer_dims):\n",
    "        if i == 0:\n",
    "            model.add(Conv2D(dim[0], dim[1], input_shape=input_shape, activation=activation))\n",
    "            model.add(MaxPooling2D(pool_size=(2, 2)))\n",
    "        else:\n",
    "            model.add(Conv2D(dim[0], dim[1], activation=activation))\n",
    "            model.add(MaxPooling2D(pool_size=(2, 2)))\n",
    "    model.add(Conv2D(filters=len_classes, kernel_size=1, strides=1))\n",
    "    model.add(Dropout(dropout_rate))\n",
    "    model.add(BatchNormalization())\n",
    "    model.add(GlobalMaxPooling2D())\n",
    "    model.add(Activation('softmax'))\n",
    "    return model"
   ]
  },
  {
   "cell_type": "code",
   "execution_count": 18,
   "id": "449905c9-8898-4a20-bfe3-efeed3d1c103",
   "metadata": {
    "id": "449905c9-8898-4a20-bfe3-efeed3d1c103"
   },
   "outputs": [],
   "source": [
    "def sample_architecture(min_layers=1, max_layers=5, min_filters=32, max_filters=512, min_kernel=3, max_kernel=5):\n",
    "    \"\"\"Function to sample a random architecture from the search space.\"\"\"\n",
    "    num_layers = random.randint(min_layers, max_layers)\n",
    "    layer_dims = [(random.randint(min_filters, max_filters), random.randint(min_kernel, max_kernel)) for _ in range(num_layers)]\n",
    "    return layer_dims"
   ]
  },
  {
   "cell_type": "code",
   "execution_count": 19,
   "id": "ce5b9c67-5797-4121-94b3-c73e86564f4d",
   "metadata": {
    "colab": {
     "base_uri": "https://localhost:8080/"
    },
    "id": "ce5b9c67-5797-4121-94b3-c73e86564f4d",
    "outputId": "cd6dc082-b0c4-469e-faf2-bf9b1ed31a07"
   },
   "outputs": [
    {
     "name": "stdout",
     "output_type": "stream",
     "text": [
      "1\n",
      "1\n",
      "1\n",
      "1\n",
      "1\n",
      "1\n"
     ]
    }
   ],
   "source": [
    "input_shape = (100,) # Example input shape for demonstration purposes\n",
    "arch_nos = 6 # number of architectures\n",
    "search_space = [sample_architecture() for _ in range(arch_nos)] # Generate 100 random architectures\n",
    "models = [build_model(layer_dims) for layer_dims in search_space] # Build models from the architectures"
   ]
  },
  {
   "cell_type": "code",
   "execution_count": 20,
   "id": "be1f100c-1a72-4bff-83cc-7b85c7b2b81d",
   "metadata": {
    "colab": {
     "base_uri": "https://localhost:8080/"
    },
    "id": "be1f100c-1a72-4bff-83cc-7b85c7b2b81d",
    "outputId": "5f370188-855b-4053-f374-05d32811c0f4"
   },
   "outputs": [
    {
     "name": "stdout",
     "output_type": "stream",
     "text": [
      "Model: \"sequential_6\"\n",
      "_________________________________________________________________\n",
      " Layer (type)                Output Shape              Param #   \n",
      "=================================================================\n",
      " conv2d_25 (Conv2D)          (None, 221, 221, 187)     9163      \n",
      "                                                                 \n",
      " max_pooling2d_19 (MaxPoolin  (None, 110, 110, 187)    0         \n",
      " g2D)                                                            \n",
      "                                                                 \n",
      " conv2d_26 (Conv2D)          (None, 108, 108, 343)     577612    \n",
      "                                                                 \n",
      " max_pooling2d_20 (MaxPoolin  (None, 54, 54, 343)      0         \n",
      " g2D)                                                            \n",
      "                                                                 \n",
      " conv2d_27 (Conv2D)          (None, 51, 51, 79)        433631    \n",
      "                                                                 \n",
      " max_pooling2d_21 (MaxPoolin  (None, 25, 25, 79)       0         \n",
      " g2D)                                                            \n",
      "                                                                 \n",
      " conv2d_28 (Conv2D)          (None, 23, 23, 262)       186544    \n",
      "                                                                 \n",
      " max_pooling2d_22 (MaxPoolin  (None, 11, 11, 262)      0         \n",
      " g2D)                                                            \n",
      "                                                                 \n",
      " conv2d_29 (Conv2D)          (None, 11, 11, 2)         526       \n",
      "                                                                 \n",
      " dropout_6 (Dropout)         (None, 11, 11, 2)         0         \n",
      "                                                                 \n",
      " batch_normalization_6 (Batc  (None, 11, 11, 2)        8         \n",
      " hNormalization)                                                 \n",
      "                                                                 \n",
      " global_max_pooling2d_6 (Glo  (None, 2)                0         \n",
      " balMaxPooling2D)                                                \n",
      "                                                                 \n",
      " activation_6 (Activation)   (None, 2)                 0         \n",
      "                                                                 \n",
      "=================================================================\n",
      "Total params: 1,207,484\n",
      "Trainable params: 1,207,480\n",
      "Non-trainable params: 4\n",
      "_________________________________________________________________\n"
     ]
    }
   ],
   "source": [
    "models[0].summary()"
   ]
  }
 ],
 "metadata": {
  "accelerator": "TPU",
  "colab": {
   "provenance": []
  },
  "gpuClass": "standard",
  "kernelspec": {
   "display_name": "Python 3 (ipykernel)",
   "language": "python",
   "name": "python3"
  },
  "language_info": {
   "codemirror_mode": {
    "name": "ipython",
    "version": 3
   },
   "file_extension": ".py",
   "mimetype": "text/x-python",
   "name": "python",
   "nbconvert_exporter": "python",
   "pygments_lexer": "ipython3",
   "version": "3.9.16"
  }
 },
 "nbformat": 4,
 "nbformat_minor": 5
}
